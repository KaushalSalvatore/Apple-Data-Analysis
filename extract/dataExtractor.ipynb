{
 "cells": [
  {
   "cell_type": "code",
   "execution_count": 0,
   "metadata": {
    "application/vnd.databricks.v1+cell": {
     "cellMetadata": {
      "byteLimit": 2048000,
      "rowLimit": 10000
     },
     "inputWidgets": {},
     "nuid": "91194252-3ba0-452f-8d1a-3fd7fb1ead5e",
     "showTitle": false,
     "tableResultSettingsMap": {},
     "title": ""
    }
   },
   "outputs": [],
   "source": [
    "%run \"/Workspace/apple_record/dataReader\""
   ]
  },
  {
   "cell_type": "code",
   "execution_count": 0,
   "metadata": {
    "application/vnd.databricks.v1+cell": {
     "cellMetadata": {
      "byteLimit": 2048000,
      "rowLimit": 10000
     },
     "inputWidgets": {},
     "nuid": "6e64bb00-0187-42c1-8e1b-b2b47d2a5adb",
     "showTitle": false,
     "tableResultSettingsMap": {},
     "title": ""
    }
   },
   "outputs": [],
   "source": [
    "class Extractor:\n",
    "    \"\"\"\n",
    "    Abstract class \n",
    "    \"\"\"\n",
    "\n",
    "    def __init__(self):\n",
    "        pass\n",
    "    def extract(self):\n",
    "        pass\n",
    "\n",
    "class AirpodsAfterIphoneExtractor(Extractor):\n",
    "\n",
    "    def extract(self):\n",
    "        \"\"\"\n",
    "        Implement the steps for extracting or reading the data\n",
    "        \"\"\" \n",
    "        transcationInputDf = get_data_source(\n",
    "            data_type=\"csv\",file_path=\"/Volumes/apple_analysis/default/apple_record_csv/Transaction_Updated.csv\",).get_data_frame()\n",
    "        \n",
    "        customerInputDf = get_data_source(\n",
    "            data_type=\"delta\",file_path=\"apple_analysis.default.customer_updated\").get_data_frame()\n",
    "        \n",
    "        inputDfs = {\n",
    "            \"transcationInputDf\": transcationInputDf,\n",
    "            \"customerInputDf\": customerInputDf\n",
    "            }\n",
    "\n",
    "        return inputDfs"
   ]
  }
 ],
 "metadata": {
  "application/vnd.databricks.v1+notebook": {
   "computePreferences": null,
   "dashboards": [],
   "environmentMetadata": {
    "base_environment": "",
    "environment_version": "2"
   },
   "inputWidgetPreferences": null,
   "language": "python",
   "notebookMetadata": {
    "pythonIndentUnit": 4
   },
   "notebookName": "dataExtractor",
   "widgets": {}
  },
  "language_info": {
   "name": "python"
  }
 },
 "nbformat": 4,
 "nbformat_minor": 0
}