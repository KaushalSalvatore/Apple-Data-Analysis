{
 "cells": [
  {
   "cell_type": "code",
   "execution_count": 0,
   "metadata": {
    "application/vnd.databricks.v1+cell": {
     "cellMetadata": {
      "byteLimit": 2048000,
      "rowLimit": 10000
     },
     "inputWidgets": {},
     "nuid": "95086fd1-6bb6-4fe2-b9bf-402ab44143fe",
     "showTitle": false,
     "tableResultSettingsMap": {},
     "title": ""
    }
   },
   "outputs": [],
   "source": [
    "from pyspark.sql.window import Window\n",
    "from pyspark.sql.functions import lead, col, broadcast, collect_set, size, array_contains"
   ]
  },
  {
   "cell_type": "code",
   "execution_count": 0,
   "metadata": {
    "application/vnd.databricks.v1+cell": {
     "cellMetadata": {
      "byteLimit": 2048000,
      "rowLimit": 10000
     },
     "inputWidgets": {},
     "nuid": "6572ac3f-1650-42ed-8812-c8954033e7af",
     "showTitle": false,
     "tableResultSettingsMap": {},
     "title": ""
    }
   },
   "outputs": [],
   "source": [
    "class Transformer:\n",
    "    def __init__(self):\n",
    "        pass\n",
    "\n",
    "    def transform(self,inputDFs):\n",
    "        # Implement transformation logic here\n",
    "        pass\n",
    "\n",
    "class AirpodsAfterIphoneTransformer(Transformer):\n",
    "\n",
    "    def transform(self, inputDFs):\n",
    "        \"\"\"\n",
    "        Customers who have bought Airpods after buying the iPhone\n",
    "        \"\"\"\n",
    "        print(inputDFs)\n",
    "        transcationInputDf = inputDFs.get(\"transcationInputDf\")\n",
    "\n",
    "        print(\"transcationInputDF in transform data\")\n",
    "\n",
    "        transcationInputDf.printSchema()\n",
    "\n",
    "        transcationInputDf.show()\n",
    "\n",
    "        windowSpec = Window.partitionBy(\"customer_id\").orderBy(\"transaction_date\")\n",
    "\n",
    "        transformedDf = transcationInputDf.withColumn(\n",
    "            \"next_product_name\", lead(\"product_name\").over(windowSpec)\n",
    "        )\n",
    "\n",
    "        print(\"Airpods after buying iphone\")\n",
    "        transformedDf.orderBy(\"customer_id\", \"transaction_date\", \"product_name\").show()\n",
    "\n",
    "        filteredDf = transformedDf.filter(\n",
    "            (col(\"product_name\") == \"iPhone\") & (col(\"next_product_name\") == \"AirPods\")\n",
    "        )\n",
    "\n",
    "        print(\"fillter Airpods after buying iphone\")\n",
    "        filteredDf.orderBy(\"customer_id\", \"transaction_date\", \"product_name\").show()\n",
    "    \n",
    "    def transformWithCustomerTable(self, inputDFs):\n",
    "\n",
    "        transcationInputDf = inputDFs.get(\"transcationInputDf\")\n",
    "\n",
    "        print(\"transcationInputDF in transform data\")\n",
    "\n",
    "        transcationInputDf.printSchema()\n",
    "\n",
    "        transcationInputDf.show()\n",
    "\n",
    "        windowSpec = Window.partitionBy(\"customer_id\").orderBy(\"transaction_date\")\n",
    "\n",
    "        transformedDf = transcationInputDf.withColumn(\n",
    "            \"next_product_name\", lead(\"product_name\").over(windowSpec)\n",
    "        )\n",
    "\n",
    "        print(\"Airpods after buying iphone\")\n",
    "        transformedDf.orderBy(\"customer_id\", \"transaction_date\", \"product_name\").show()\n",
    "\n",
    "        filteredDf = transformedDf.filter(\n",
    "            (col(\"product_name\") == \"iPhone\") & (col(\"next_product_name\") == \"AirPods\")\n",
    "        )\n",
    "\n",
    "        filteredDf.orderBy(\"customer_id\", \"transaction_date\", \"product_name\").show()\n",
    "\n",
    "        customerInputDf = inputDFs.get(\"customerInputDf\")\n",
    "\n",
    "        customerInputDf.show()\n",
    "\n",
    "        joinDF =  filteredDf.join(\n",
    "           customerInputDf,\n",
    "            \"customer_id\"\n",
    "        )\n",
    "\n",
    "        # With the help of broadcast, we can reduce the shuffle size\n",
    "        \n",
    "        # joinDF =  customerInputDf.join(\n",
    "        #    broadcast(filteredDf),\n",
    "        #     \"customer_id\"\n",
    "        # )\n",
    "\n",
    "        print(\"final JOINED DF Customer name who \")\n",
    "        joinDF.select(\n",
    "            \"customer_id\",\n",
    "            \"customer_name\",\n",
    "            \"join_date\",\n",
    "            \"location\"\n",
    "        ).show()\n",
    "        return joinDF.select(\n",
    "            \"customer_id\",\n",
    "            \"customer_name\",\n",
    "            \"join_date\",\n",
    "            \"location\"\n",
    "        )\n",
    "\n",
    "# second tranformation customer that have only iphone and airpod\n",
    "class OnlyAirpodsAndIphone(Transformer):\n",
    "\n",
    "    def transform(self, inputDFs):\n",
    "        \"\"\"\n",
    "        Customer who have bought only iPhone and Airpods nothing else\n",
    "        \"\"\"\n",
    "\n",
    "        transcationInputDf = inputDFs.get(\"transcationInputDf\")\n",
    "        \n",
    "\n",
    "        print(\"transcationInputDf in transform data\")\n",
    "\n",
    "        transcationInputDf.show()\n",
    "\n",
    "\n",
    "        groupedDF = transcationInputDf.groupBy(\"customer_id\").agg(\n",
    "            collect_set(\"product_name\").alias(\"products\")\n",
    "        )\n",
    "\n",
    "        print(\"Grouped DF\")\n",
    "        groupedDF.show()\n",
    "\n",
    "        filteredDF = groupedDF.filter(\n",
    "            (array_contains(col(\"products\"), \"iPhone\")) &\n",
    "            (array_contains(col(\"products\"), \"AirPods\")) & \n",
    "            (size(col(\"products\")) == 2)\n",
    "        )\n",
    "        \n",
    "\n",
    "        print(\"Only Airpods and iPhone\")\n",
    "        filteredDF.show()\n",
    "\n",
    "        return filteredDF\n",
    "\n"
   ]
  },
  {
   "cell_type": "code",
   "execution_count": 0,
   "metadata": {
    "application/vnd.databricks.v1+cell": {
     "cellMetadata": {
      "byteLimit": 2048000,
      "rowLimit": 10000
     },
     "inputWidgets": {},
     "nuid": "da17768c-883e-46e5-9be2-c4315680b907",
     "showTitle": false,
     "tableResultSettingsMap": {},
     "title": ""
    }
   },
   "outputs": [],
   "source": []
  }
 ],
 "metadata": {
  "application/vnd.databricks.v1+notebook": {
   "computePreferences": null,
   "dashboards": [],
   "environmentMetadata": {
    "base_environment": "",
    "environment_version": "2"
   },
   "inputWidgetPreferences": null,
   "language": "python",
   "notebookMetadata": {
    "pythonIndentUnit": 4
   },
   "notebookName": "dataTransform",
   "widgets": {}
  },
  "language_info": {
   "name": "python"
  }
 },
 "nbformat": 4,
 "nbformat_minor": 0
}