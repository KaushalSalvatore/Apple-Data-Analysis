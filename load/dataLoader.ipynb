{
 "cells": [
  {
   "cell_type": "code",
   "execution_count": 0,
   "metadata": {
    "application/vnd.databricks.v1+cell": {
     "cellMetadata": {
      "byteLimit": 2048000,
      "rowLimit": 10000
     },
     "inputWidgets": {},
     "nuid": "4e36721e-8929-4d69-8ae2-9ac4fb071756",
     "showTitle": false,
     "tableResultSettingsMap": {},
     "title": ""
    }
   },
   "outputs": [],
   "source": [
    "%run \"/Workspace/apple_record/dataLoaderFactory\""
   ]
  },
  {
   "cell_type": "code",
   "execution_count": 0,
   "metadata": {
    "application/vnd.databricks.v1+cell": {
     "cellMetadata": {
      "byteLimit": 2048000,
      "rowLimit": 10000
     },
     "inputWidgets": {},
     "nuid": "cbff5ef2-63f9-4133-92a4-62ed5cb98450",
     "showTitle": false,
     "tableResultSettingsMap": {},
     "title": ""
    }
   },
   "outputs": [],
   "source": [
    "class AbstractLoader:\n",
    "    def __init__(self, transformedDF):\n",
    "        self.transformedDF = transformedDF\n",
    "\n",
    "    def sink(self):\n",
    "\n",
    "        pass\n",
    "\n",
    "class AirPodsAfterIphoneLoader(AbstractLoader):\n",
    "\n",
    "    def sink(self):\n",
    "        print(self.transformedDF)\n",
    "        if self.transformedDF is None:\n",
    "            raise ValueError(\"transformedDF is None. Check your transformer return value.\")\n",
    "\n",
    "        # (self.transformedDF.write\n",
    "        #     .format(\"delta\")\n",
    "        #     .mode(\"overwrite\")\n",
    "        #     .saveAsTable(\"apple_analysis.default.airpods_after_iphone\"))\n",
    "        params = {\n",
    "            \"partitionByColumns\": [\"location\"]\n",
    "        }\n",
    "        get_sink_source(\n",
    "            sink_type = \"delta\",\n",
    "            df = self.transformedDF, \n",
    "            path = \"apple_analysis.default.airpods_after_iphone\", \n",
    "            method = \"overwrite\"\n",
    "        ).load_data_frame()\n",
    "\n",
    "        get_sink_source(\n",
    "            sink_type = \"dbfs_with_partition\",\n",
    "            df = self.transformedDF,\n",
    "            path = \"/Volumes/apple_analysis/default/apple_record_csv/airpods_after_iphone\", \n",
    "            method = \"overwrite\",\n",
    "            params = params\n",
    "        ).load_data_frame()\n",
    "\n",
    "\n",
    "class OnlyAirpodsAndIPhoneLoader(AbstractLoader):\n",
    "\n",
    "    def sink(self):\n",
    "        params = {\n",
    "            \"partitionByColumns\": [\"location\"]\n",
    "        }\n",
    "        get_sink_source(\n",
    "            sink_type = \"delta\",\n",
    "            df = self.transformedDF, \n",
    "            path = \"apple_analysis.default.airpods_only_iphone\", \n",
    "            method = \"overwrite\",\n",
    "        ).load_data_frame()\n",
    "\n",
    "        get_sink_source(\n",
    "            sink_type = \"dbfs\",\n",
    "            df = self.transformedDF, \n",
    "            path = \"/Volumes/apple_analysis/default/apple_record_csv/airpods_only_iphone\", \n",
    "            method = \"overwrite\",\n",
    "        ).load_data_frame()           \n",
    "\n"
   ]
  }
 ],
 "metadata": {
  "application/vnd.databricks.v1+notebook": {
   "computePreferences": null,
   "dashboards": [],
   "environmentMetadata": {
    "base_environment": "",
    "environment_version": "2"
   },
   "inputWidgetPreferences": null,
   "language": "python",
   "notebookMetadata": {
    "pythonIndentUnit": 4
   },
   "notebookName": "dataLoader",
   "widgets": {}
  },
  "language_info": {
   "name": "python"
  }
 },
 "nbformat": 4,
 "nbformat_minor": 0
}